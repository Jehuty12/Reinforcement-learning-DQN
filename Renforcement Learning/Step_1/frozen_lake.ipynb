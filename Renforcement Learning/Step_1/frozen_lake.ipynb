{
 "cells": [
  {
   "cell_type": "code",
   "execution_count": 1,
   "metadata": {},
   "outputs": [
    {
     "name": "stderr",
     "output_type": "stream",
     "text": [
      "2025-02-14 11:11:19.293 python[70730:8193727] +[IMKClient subclass]: chose IMKClient_Legacy\n",
      "2025-02-14 11:11:19.293 python[70730:8193727] +[IMKInputSession subclass]: chose IMKInputSession_Legacy\n"
     ]
    },
    {
     "ename": "",
     "evalue": "",
     "output_type": "error",
     "traceback": [
      "\u001b[1;31mLe noyau s’est bloqué lors de l’exécution du code dans une cellule active ou une cellule précédente. \n",
      "\u001b[1;31mVeuillez vérifier le code dans la ou les cellules pour identifier une cause possible de l’échec. \n",
      "\u001b[1;31mCliquez <a href='https://aka.ms/vscodeJupyterKernelCrash'>ici</a> pour plus d’informations. \n",
      "\u001b[1;31mPour plus d’informations, consultez Jupyter <a href='command:jupyter.viewOutput'>log</a>."
     ]
    }
   ],
   "source": [
    "import gymnasium as gym\n",
    "\n",
    "def run():\n",
    "    # Création de l'environnement avec un rendu en mode \"human\"\n",
    "    env = gym.make('FrozenLake-v1', map_name=\"8x8\", is_slippery=False, render_mode=\"human\")\n",
    "\n",
    "    # Décomposition du tuple renvoyé par reset() en observation et info\n",
    "    state, info = env.reset()\n",
    "    \n",
    "    terminated = False\n",
    "    truncated = False\n",
    "\n",
    "    while not terminated and not truncated:\n",
    "        action = env.action_space.sample()\n",
    "        state, reward, terminated, truncated, info = env.step(action)\n",
    "    \n",
    "    env.close()\n",
    "\n",
    "run()\n"
   ]
  }
 ],
 "metadata": {
  "kernelspec": {
   "display_name": "rl_gymnasium",
   "language": "python",
   "name": "rl_gymnasium"
  }
 },
 "nbformat": 4,
 "nbformat_minor": 2
}
